{
 "cells": [
  {
   "cell_type": "code",
   "execution_count": 6,
   "metadata": {},
   "outputs": [],
   "source": [
    "import _init_paths\n",
    "from lib.config import cfg\n",
    "from lib.config import update_config\n",
    "update_config(cfg)\n",
    "from lib.common.humanKeypoints import humanKeypoints\n",
    "\n",
    "infantKeypoint = humanKeypoints('infant.mov')\n",
    "variability = infantKeypoint.getKeypointVariability()\n"
   ]
  }
 ],
 "metadata": {
  "interpreter": {
   "hash": "126fd4d4000627bf0074806a910197131ca25a769057180ede64badf3ecf74bc"
  },
  "kernelspec": {
   "display_name": "Python 3.7.11 ('Wei_env')",
   "language": "python",
   "name": "python3"
  },
  "language_info": {
   "codemirror_mode": {
    "name": "ipython",
    "version": 3
   },
   "file_extension": ".py",
   "mimetype": "text/x-python",
   "name": "python",
   "nbconvert_exporter": "python",
   "pygments_lexer": "ipython3",
   "version": "3.7.11"
  },
  "orig_nbformat": 4
 },
 "nbformat": 4,
 "nbformat_minor": 2
}
