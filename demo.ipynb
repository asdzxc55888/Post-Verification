{
 "cells": [
  {
   "cell_type": "markdown",
   "metadata": {},
   "source": [
    "# 前置步驟"
   ]
  },
  {
   "cell_type": "markdown",
   "metadata": {},
   "source": [
    "### 初始化設定"
   ]
  },
  {
   "cell_type": "code",
   "execution_count": 3,
   "metadata": {},
   "outputs": [],
   "source": [
    "import _init_paths\n",
    "import argparse\n",
    "import numpy as np\n",
    "from lib.config import cfg\n",
    "from lib.common.bboxInfoPredictor import bboxInfoPredictor\n",
    "from lib.config import update_config\n",
    "\n",
    "from lib.common.visualization import visualization\n",
    "update_config(cfg)\n",
    "\n",
    "test_videos = [\"infant_60.mov\", \"infant2_60.mp4\", \"infant3_48.mov\", \"infant4_48.mov\", \"infant5_48.mov\"]"
   ]
  },
  {
   "cell_type": "markdown",
   "metadata": {},
   "source": [
    "### 預測人體box"
   ]
  },
  {
   "cell_type": "code",
   "execution_count": null,
   "metadata": {},
   "outputs": [],
   "source": [
    "for video in test_videos:\n",
    "    bbox = bboxInfoPredictor(video)\n",
    "    bbox.predict()"
   ]
  },
  {
   "cell_type": "markdown",
   "metadata": {},
   "source": [
    "### 預測關節點"
   ]
  },
  {
   "cell_type": "code",
   "execution_count": null,
   "metadata": {},
   "outputs": [],
   "source": [
    "from lib.common.keypointPredictor import keypointPredictor\n",
    "\n",
    "for video in test_videos:\n",
    "    k = keypointPredictor(video)\n",
    "    k.predict()"
   ]
  },
  {
   "cell_type": "markdown",
   "metadata": {},
   "source": [
    "### 讀取已預測完之關節點"
   ]
  },
  {
   "cell_type": "code",
   "execution_count": 24,
   "metadata": {},
   "outputs": [],
   "source": [
    "from lib.common.humanKeypoints import humanKeypoints\n",
    "\n",
    "videoKeypoints = [humanKeypoints]\n",
    "videoKeypoints.clear()\n",
    "for video in test_videos:\n",
    "    keypoints = humanKeypoints(video)\n",
    "    videoKeypoints.append(keypoints)"
   ]
  },
  {
   "cell_type": "code",
   "execution_count": 29,
   "metadata": {},
   "outputs": [
    {
     "name": "stdout",
     "output_type": "stream",
     "text": [
      "videoName:infant_60.mov\n",
      "milestone:60\n",
      "keypoints:      framesKey                                          keypoints\n",
      "0             0  [[0.41046415282940135, 0.32389177471419084], [...\n",
      "1             1  [[0.4079837601667292, 0.32625829999183076], [0...\n",
      "2             2  [[0.4012392797560894, 0.32815406814471393], [0...\n",
      "3             3  [[0.4112488078479107, 0.3275953894651734], [0....\n",
      "4             4  [[0.4085910289626686, 0.3260735570677381], [0....\n",
      "...         ...                                                ...\n",
      "2754       2754  [[0.39332375600842717, 0.22139824498591865], [...\n",
      "2755       2755  [[0.38306750926797795, 0.22220288870076044], [...\n",
      "2756       2756  [[0.3844087974441409, 0.22036005291249197], [0...\n",
      "2757       2757  [[0.38590019821771643, 0.2192571936383631], [0...\n",
      "2758       2758  [[0.39478802670224084, 0.21853368895836464], [...\n",
      "\n",
      "[2759 rows x 2 columns]\n"
     ]
    }
   ],
   "source": [
    "print(f\"videoName:{videoKeypoints[0].getVideoName()}\")\n",
    "print(f\"milestone:{videoKeypoints[0].getMilestone()}\")\n",
    "print(f\"keypoints:{videoKeypoints[0].getKeypoints()}\")"
   ]
  }
 ],
 "metadata": {
  "kernelspec": {
   "display_name": "Python 3.7.11 ('Wei_env')",
   "language": "python",
   "name": "python3"
  },
  "language_info": {
   "codemirror_mode": {
    "name": "ipython",
    "version": 3
   },
   "file_extension": ".py",
   "mimetype": "text/x-python",
   "name": "python",
   "nbconvert_exporter": "python",
   "pygments_lexer": "ipython3",
   "version": "3.7.11"
  },
  "orig_nbformat": 4,
  "vscode": {
   "interpreter": {
    "hash": "126fd4d4000627bf0074806a910197131ca25a769057180ede64badf3ecf74bc"
   }
  }
 },
 "nbformat": 4,
 "nbformat_minor": 2
}
