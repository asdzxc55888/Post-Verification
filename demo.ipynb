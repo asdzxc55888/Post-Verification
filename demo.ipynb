{
 "cells": [
  {
   "cell_type": "markdown",
   "metadata": {},
   "source": [
    "# 前置步驟"
   ]
  },
  {
   "cell_type": "markdown",
   "metadata": {},
   "source": [
    "### 初始化設定"
   ]
  },
  {
   "cell_type": "code",
   "execution_count": 2,
   "metadata": {},
   "outputs": [],
   "source": [
    "import _init_paths\n",
    "import argparse\n",
    "import numpy as np\n",
    "from lib.config import cfg\n",
    "from lib.common.bboxInfoPredictor import bboxInfoPredictor\n",
    "from lib.config import update_config\n",
    "update_config(cfg)\n",
    "\n",
    "test_videos = [\"infant_60.mov\", \"infant2_60.mp4\", \"infant3_48.mov\", \"infant4_48.mov\", \"infant5_48.mov\"]"
   ]
  },
  {
   "cell_type": "markdown",
   "metadata": {},
   "source": [
    "### 預測人體box"
   ]
  },
  {
   "cell_type": "code",
   "execution_count": null,
   "metadata": {},
   "outputs": [],
   "source": [
    "for video in test_videos:\n",
    "    bbox = bboxInfoPredictor(video)\n",
    "    bbox.predict()"
   ]
  },
  {
   "cell_type": "markdown",
   "metadata": {},
   "source": [
    "### 預測關節點"
   ]
  },
  {
   "cell_type": "code",
   "execution_count": null,
   "metadata": {},
   "outputs": [],
   "source": [
    "from lib.common.keypointPredictor import keypointPredictor\n",
    "\n",
    "for video in test_videos:\n",
    "    k = keypointPredictor(video)\n",
    "    k.predict()"
   ]
  },
  {
   "cell_type": "markdown",
   "metadata": {},
   "source": [
    "### 讀取已預測完之關節點"
   ]
  },
  {
   "cell_type": "code",
   "execution_count": 3,
   "metadata": {},
   "outputs": [],
   "source": [
    "from lib.common.humanKeypoints import humanKeypoints\n",
    "\n",
    "videoKeypoints = [humanKeypoints]\n",
    "videoKeypoints.clear()\n",
    "for video in test_videos:\n",
    "    keypoints = humanKeypoints(video)\n",
    "    videoKeypoints.append(keypoints)"
   ]
  },
  {
   "cell_type": "code",
   "execution_count": 29,
   "metadata": {},
   "outputs": [
    {
     "name": "stdout",
     "output_type": "stream",
     "text": [
      "videoName:infant_60.mov\n",
      "milestone:60\n",
      "keypoints:      framesKey                                          keypoints\n",
      "0             0  [[0.41046415282940135, 0.32389177471419084], [...\n",
      "1             1  [[0.4079837601667292, 0.32625829999183076], [0...\n",
      "2             2  [[0.4012392797560894, 0.32815406814471393], [0...\n",
      "3             3  [[0.4112488078479107, 0.3275953894651734], [0....\n",
      "4             4  [[0.4085910289626686, 0.3260735570677381], [0....\n",
      "...         ...                                                ...\n",
      "2754       2754  [[0.39332375600842717, 0.22139824498591865], [...\n",
      "2755       2755  [[0.38306750926797795, 0.22220288870076044], [...\n",
      "2756       2756  [[0.3844087974441409, 0.22036005291249197], [0...\n",
      "2757       2757  [[0.38590019821771643, 0.2192571936383631], [0...\n",
      "2758       2758  [[0.39478802670224084, 0.21853368895836464], [...\n",
      "\n",
      "[2759 rows x 2 columns]\n"
     ]
    }
   ],
   "source": [
    "print(f\"videoName:{videoKeypoints[0].getVideoName()}\")\n",
    "print(f\"milestone:{videoKeypoints[0].getMilestone()}\")\n",
    "print(f\"keypoints:{videoKeypoints[0].getKeypoints()}\")"
   ]
  },
  {
   "cell_type": "markdown",
   "metadata": {},
   "source": [
    "## 視覺化呈現數據"
   ]
  },
  {
   "cell_type": "code",
   "execution_count": 1,
   "metadata": {},
   "outputs": [
    {
     "ename": "ModuleNotFoundError",
     "evalue": "No module named 'config'",
     "output_type": "error",
     "traceback": [
      "\u001b[0;31m---------------------------------------------------------------------------\u001b[0m",
      "\u001b[0;31mModuleNotFoundError\u001b[0m                       Traceback (most recent call last)",
      "\u001b[0;32m/tmp/ipykernel_32659/3554419303.py\u001b[0m in \u001b[0;36m<module>\u001b[0;34m\u001b[0m\n\u001b[0;32m----> 1\u001b[0;31m \u001b[0;32mfrom\u001b[0m \u001b[0mlib\u001b[0m\u001b[0;34m.\u001b[0m\u001b[0mcommon\u001b[0m\u001b[0;34m.\u001b[0m\u001b[0mvisualization\u001b[0m \u001b[0;32mimport\u001b[0m \u001b[0mvisualization\u001b[0m\u001b[0;34m\u001b[0m\u001b[0;34m\u001b[0m\u001b[0m\n\u001b[0m\u001b[1;32m      2\u001b[0m \u001b[0;34m\u001b[0m\u001b[0m\n\u001b[1;32m      3\u001b[0m \u001b[0mv\u001b[0m \u001b[0;34m=\u001b[0m \u001b[0mvisualization\u001b[0m\u001b[0;34m(\u001b[0m\u001b[0mvideoKeypoints\u001b[0m\u001b[0;34m[\u001b[0m\u001b[0;36m0\u001b[0m\u001b[0;34m]\u001b[0m\u001b[0;34m)\u001b[0m\u001b[0;34m\u001b[0m\u001b[0;34m\u001b[0m\u001b[0m\n\u001b[1;32m      4\u001b[0m \u001b[0mv\u001b[0m\u001b[0;34m.\u001b[0m\u001b[0mdraw_average_movement\u001b[0m\u001b[0;34m(\u001b[0m\u001b[0;34m)\u001b[0m\u001b[0;34m\u001b[0m\u001b[0;34m\u001b[0m\u001b[0m\n",
      "\u001b[0;32m~/jupyter_home/WeiChen/Post-Verification/lib/common/visualization.py\u001b[0m in \u001b[0;36m<module>\u001b[0;34m\u001b[0m\n\u001b[1;32m     10\u001b[0m \u001b[0;34m\u001b[0m\u001b[0m\n\u001b[1;32m     11\u001b[0m \u001b[0;32mfrom\u001b[0m \u001b[0mtqdm\u001b[0m \u001b[0;32mimport\u001b[0m \u001b[0mtqdm\u001b[0m\u001b[0;34m\u001b[0m\u001b[0;34m\u001b[0m\u001b[0m\n\u001b[0;32m---> 12\u001b[0;31m \u001b[0;32mfrom\u001b[0m \u001b[0mconfig\u001b[0m \u001b[0;32mimport\u001b[0m \u001b[0mcfg\u001b[0m\u001b[0;34m\u001b[0m\u001b[0;34m\u001b[0m\u001b[0m\n\u001b[0m\u001b[1;32m     13\u001b[0m \u001b[0;32mfrom\u001b[0m \u001b[0mcommon\u001b[0m\u001b[0;34m.\u001b[0m\u001b[0mhumanKeypoints\u001b[0m \u001b[0;32mimport\u001b[0m \u001b[0mhumanKeypoints\u001b[0m\u001b[0;34m\u001b[0m\u001b[0;34m\u001b[0m\u001b[0m\n\u001b[1;32m     14\u001b[0m \u001b[0;34m\u001b[0m\u001b[0m\n",
      "\u001b[0;31mModuleNotFoundError\u001b[0m: No module named 'config'"
     ]
    }
   ],
   "source": [
    "from lib.common.visualization import visualization\n",
    "\n",
    "v = visualization(videoKeypoints[0])\n",
    "v.draw_average_movement()\n",
    "v.draw_variability()\n",
    "v.draw_peak_feature()"
   ]
  },
  {
   "cell_type": "code",
   "execution_count": 4,
   "metadata": {},
   "outputs": [
    {
     "ename": "ImportError",
     "evalue": "cannot import name 'softmax' from 'scipy.special' (/home/biolab/anaconda3/envs/Wei_env/lib/python3.7/site-packages/scipy/special/__init__.py)",
     "output_type": "error",
     "traceback": [
      "\u001b[0;31m---------------------------------------------------------------------------\u001b[0m",
      "\u001b[0;31mImportError\u001b[0m                               Traceback (most recent call last)",
      "\u001b[0;32m/tmp/ipykernel_32659/1599389355.py\u001b[0m in \u001b[0;36m<module>\u001b[0;34m\u001b[0m\n\u001b[0;32m----> 1\u001b[0;31m \u001b[0;32mfrom\u001b[0m \u001b[0mlib\u001b[0m\u001b[0;34m.\u001b[0m\u001b[0mutils\u001b[0m\u001b[0;34m.\u001b[0m\u001b[0mpeakFeature\u001b[0m \u001b[0;32mimport\u001b[0m \u001b[0mpeakFeature\u001b[0m\u001b[0;34m\u001b[0m\u001b[0;34m\u001b[0m\u001b[0m\n\u001b[0m\u001b[1;32m      2\u001b[0m \u001b[0;32mimport\u001b[0m \u001b[0mpandas\u001b[0m \u001b[0;32mas\u001b[0m \u001b[0mpd\u001b[0m\u001b[0;34m\u001b[0m\u001b[0;34m\u001b[0m\u001b[0m\n\u001b[1;32m      3\u001b[0m \u001b[0;34m\u001b[0m\u001b[0m\n\u001b[1;32m      4\u001b[0m \u001b[0mdf\u001b[0m \u001b[0;34m=\u001b[0m \u001b[0mpd\u001b[0m\u001b[0;34m.\u001b[0m\u001b[0mDataFrame\u001b[0m\u001b[0;34m(\u001b[0m\u001b[0;34m)\u001b[0m\u001b[0;34m\u001b[0m\u001b[0;34m\u001b[0m\u001b[0m\n\u001b[1;32m      5\u001b[0m \u001b[0;32mfor\u001b[0m \u001b[0mvideo_name\u001b[0m \u001b[0;32min\u001b[0m \u001b[0mtest_videos\u001b[0m\u001b[0;34m:\u001b[0m\u001b[0;34m\u001b[0m\u001b[0;34m\u001b[0m\u001b[0m\n",
      "\u001b[0;32m~/jupyter_home/WeiChen/Post-Verification/lib/utils/peakFeature.py\u001b[0m in \u001b[0;36m<module>\u001b[0;34m\u001b[0m\n\u001b[1;32m      1\u001b[0m \u001b[0;32mimport\u001b[0m \u001b[0mnumpy\u001b[0m \u001b[0;32mas\u001b[0m \u001b[0mnp\u001b[0m\u001b[0;34m\u001b[0m\u001b[0;34m\u001b[0m\u001b[0m\n\u001b[1;32m      2\u001b[0m \u001b[0;32mfrom\u001b[0m \u001b[0mscipy\u001b[0m\u001b[0;34m.\u001b[0m\u001b[0msignal\u001b[0m \u001b[0;32mimport\u001b[0m \u001b[0mfind_peaks\u001b[0m\u001b[0;34m\u001b[0m\u001b[0;34m\u001b[0m\u001b[0m\n\u001b[0;32m----> 3\u001b[0;31m \u001b[0;32mfrom\u001b[0m \u001b[0mscipy\u001b[0m\u001b[0;34m.\u001b[0m\u001b[0mspecial\u001b[0m \u001b[0;32mimport\u001b[0m \u001b[0msoftmax\u001b[0m\u001b[0;34m\u001b[0m\u001b[0;34m\u001b[0m\u001b[0m\n\u001b[0m\u001b[1;32m      4\u001b[0m \u001b[0;32mfrom\u001b[0m \u001b[0mscipy\u001b[0m\u001b[0;34m.\u001b[0m\u001b[0mstats\u001b[0m \u001b[0;32mimport\u001b[0m \u001b[0mskew\u001b[0m\u001b[0;34m\u001b[0m\u001b[0;34m\u001b[0m\u001b[0m\n\u001b[1;32m      5\u001b[0m \u001b[0;34m\u001b[0m\u001b[0m\n",
      "\u001b[0;31mImportError\u001b[0m: cannot import name 'softmax' from 'scipy.special' (/home/biolab/anaconda3/envs/Wei_env/lib/python3.7/site-packages/scipy/special/__init__.py)"
     ]
    }
   ],
   "source": [
    "from lib.utils.peakFeature import peakFeature\n",
    "import pandas as pd\n",
    "\n",
    "df = pd.DataFrame()\n",
    "for video_name in test_videos:\n",
    "    infantKeypoint = humanKeypoints(video_name)\n",
    "    average_movement = infantKeypoint.getAverageMovement(72)\n",
    "    average_movement = np.delete(average_movement, [0,1,2,3,4], axis=0)\n",
    "    average_movement =average_movement[..., ::cfg.DOWNSAMPLING]\n",
    "    pf = peakFeature(average_movement, video_name)\n",
    "    data = pf.getVisualizeData()\n",
    "    features = pf.getPeakFeatures()\n",
    "    if df.empty:\n",
    "        df = pd.DataFrame(features)\n",
    "    else:\n",
    "        df = pd.concat([df, pd.DataFrame(features)])\n",
    "\n",
    "    v = visualization(infantKeypoint)\n",
    "    v.draw_peak_feature(df, data, video_name)\n",
    "\n",
    "# for video_name in test_videos:\n",
    "#     infantKeypoint = humanKeypoints(video_name)\n",
    "#     average_movement = infantKeypoint.getAverageMovement(72)\n",
    "#     average_movement = np.delete(average_movement, [0,1,2,3,4], axis=0)\n",
    "#     average_movement =average_movement[..., ::cfg.DOWNSAMPLING]\n",
    "#     pf = peakFeature(average_movement, video_name)\n",
    "#     data = pf.getVisualizeData()\n",
    "\n",
    "#     v = visualization(infantKeypoint)\n",
    "#     v.draw_peak_feature(df, data, video_name)"
   ]
  }
 ],
 "metadata": {
  "kernelspec": {
   "display_name": "Python 3.7.11 ('Wei_env')",
   "language": "python",
   "name": "python3"
  },
  "language_info": {
   "codemirror_mode": {
    "name": "ipython",
    "version": 3
   },
   "file_extension": ".py",
   "mimetype": "text/x-python",
   "name": "python",
   "nbconvert_exporter": "python",
   "pygments_lexer": "ipython3",
   "version": "3.7.11"
  },
  "orig_nbformat": 4,
  "vscode": {
   "interpreter": {
    "hash": "126fd4d4000627bf0074806a910197131ca25a769057180ede64badf3ecf74bc"
   }
  }
 },
 "nbformat": 4,
 "nbformat_minor": 2
}
