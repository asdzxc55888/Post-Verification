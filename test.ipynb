{
 "cells": [
  {
   "cell_type": "code",
   "execution_count": 1,
   "metadata": {},
   "outputs": [
    {
     "name": "stderr",
     "output_type": "stream",
     "text": [
      "/home/biolab/anaconda3/envs/Wei_env/lib/python3.7/site-packages/torch/cuda/__init__.py:52: UserWarning: CUDA initialization: Unexpected error from cudaGetDeviceCount(). Did you run some cuda functions before calling NumCudaDevices() that might have already set an error? Error 804: forward compatibility was attempted on non supported HW (Triggered internally at  /pytorch/c10/cuda/CUDAFunctions.cpp:115.)\n",
      "  return torch._C._cuda_getDeviceCount() > 0\n",
      "  3%|▎         | 52/1816 [00:00<00:07, 248.36it/s]"
     ]
    },
    {
     "name": "stdout",
     "output_type": "stream",
     "text": [
      "1\n",
      "1\n"
     ]
    },
    {
     "name": "stderr",
     "output_type": "stream",
     "text": [
      "  7%|▋         | 131/1816 [00:00<00:06, 254.79it/s]"
     ]
    },
    {
     "name": "stdout",
     "output_type": "stream",
     "text": [
      "1\n",
      "1\n",
      "1\n",
      "1\n"
     ]
    },
    {
     "name": "stderr",
     "output_type": "stream",
     "text": [
      " 10%|█         | 187/1816 [00:00<00:06, 268.73it/s]"
     ]
    },
    {
     "name": "stdout",
     "output_type": "stream",
     "text": [
      "1\n",
      "1\n",
      "1\n"
     ]
    },
    {
     "name": "stderr",
     "output_type": "stream",
     "text": [
      " 19%|█▉        | 353/1816 [00:01<00:05, 268.86it/s]"
     ]
    },
    {
     "name": "stdout",
     "output_type": "stream",
     "text": [
      "1\n",
      "1\n",
      "1\n"
     ]
    },
    {
     "name": "stderr",
     "output_type": "stream",
     "text": [
      " 25%|██▌       | 463/1816 [00:01<00:05, 267.43it/s]"
     ]
    },
    {
     "name": "stdout",
     "output_type": "stream",
     "text": [
      "1\n",
      "1\n",
      "1\n",
      "1\n"
     ]
    },
    {
     "name": "stderr",
     "output_type": "stream",
     "text": [
      " 33%|███▎      | 602/1816 [00:02<00:04, 265.54it/s]"
     ]
    },
    {
     "name": "stdout",
     "output_type": "stream",
     "text": [
      "1\n",
      "1\n",
      "1\n",
      "1\n"
     ]
    },
    {
     "name": "stderr",
     "output_type": "stream",
     "text": [
      " 39%|███▉      | 714/1816 [00:02<00:04, 272.93it/s]"
     ]
    },
    {
     "name": "stdout",
     "output_type": "stream",
     "text": [
      "1\n",
      "1\n",
      "1\n",
      "1\n",
      "1\n",
      "1\n",
      "1\n",
      "1\n"
     ]
    },
    {
     "name": "stderr",
     "output_type": "stream",
     "text": [
      " 43%|████▎     | 774/1816 [00:02<00:03, 280.64it/s]"
     ]
    },
    {
     "name": "stdout",
     "output_type": "stream",
     "text": [
      "1\n",
      "1\n",
      "1\n"
     ]
    },
    {
     "name": "stderr",
     "output_type": "stream",
     "text": [
      " 48%|████▊     | 863/1816 [00:03<00:03, 283.70it/s]"
     ]
    },
    {
     "name": "stdout",
     "output_type": "stream",
     "text": [
      "1\n",
      "1\n",
      "1\n",
      "1\n"
     ]
    },
    {
     "name": "stderr",
     "output_type": "stream",
     "text": [
      " 54%|█████▍    | 984/1816 [00:03<00:02, 284.53it/s]"
     ]
    },
    {
     "name": "stdout",
     "output_type": "stream",
     "text": [
      "1\n",
      "1\n",
      "1\n",
      "1\n",
      "1\n",
      "1\n",
      "1\n",
      "1\n",
      "1\n",
      "1\n",
      "1\n",
      "1\n"
     ]
    },
    {
     "name": "stderr",
     "output_type": "stream",
     "text": [
      " 59%|█████▉    | 1070/1816 [00:03<00:02, 274.54it/s]"
     ]
    },
    {
     "name": "stdout",
     "output_type": "stream",
     "text": [
      "1\n",
      "1\n"
     ]
    },
    {
     "name": "stderr",
     "output_type": "stream",
     "text": [
      " 70%|██████▉   | 1263/1816 [00:04<00:02, 263.38it/s]"
     ]
    },
    {
     "name": "stdout",
     "output_type": "stream",
     "text": [
      "1\n",
      "1\n"
     ]
    },
    {
     "name": "stderr",
     "output_type": "stream",
     "text": [
      " 73%|███████▎  | 1319/1816 [00:04<00:01, 268.77it/s]"
     ]
    },
    {
     "name": "stdout",
     "output_type": "stream",
     "text": [
      "1\n"
     ]
    },
    {
     "name": "stderr",
     "output_type": "stream",
     "text": [
      " 77%|███████▋  | 1403/1816 [00:05<00:01, 268.45it/s]"
     ]
    },
    {
     "name": "stdout",
     "output_type": "stream",
     "text": [
      "1\n",
      "1\n",
      "1\n",
      "1\n",
      "1\n",
      "1\n",
      "1\n"
     ]
    },
    {
     "name": "stderr",
     "output_type": "stream",
     "text": [
      " 81%|████████  | 1466/1816 [00:05<00:01, 285.45it/s]"
     ]
    },
    {
     "name": "stdout",
     "output_type": "stream",
     "text": [
      "1\n",
      "1\n",
      "1\n"
     ]
    },
    {
     "name": "stderr",
     "output_type": "stream",
     "text": [
      " 86%|████████▌ | 1557/1816 [00:05<00:00, 276.39it/s]"
     ]
    },
    {
     "name": "stdout",
     "output_type": "stream",
     "text": [
      "1\n",
      "1\n",
      "1\n",
      "1\n",
      "1\n",
      "1\n",
      "1\n"
     ]
    },
    {
     "name": "stderr",
     "output_type": "stream",
     "text": [
      " 92%|█████████▏| 1674/1816 [00:06<00:00, 285.28it/s]"
     ]
    },
    {
     "name": "stdout",
     "output_type": "stream",
     "text": [
      "1\n",
      "1\n",
      "1\n",
      "1\n",
      "1\n",
      "1\n",
      "1\n",
      "1\n"
     ]
    },
    {
     "name": "stderr",
     "output_type": "stream",
     "text": [
      " 97%|█████████▋| 1762/1816 [00:06<00:00, 280.61it/s]"
     ]
    },
    {
     "name": "stdout",
     "output_type": "stream",
     "text": [
      "1\n",
      "1\n",
      "1\n",
      "1\n"
     ]
    },
    {
     "name": "stderr",
     "output_type": "stream",
     "text": [
      "100%|██████████| 1816/1816 [00:06<00:00, 271.34it/s]"
     ]
    },
    {
     "name": "stdout",
     "output_type": "stream",
     "text": [
      "1\n",
      "1\n",
      "1\n"
     ]
    },
    {
     "name": "stderr",
     "output_type": "stream",
     "text": [
      "\n"
     ]
    }
   ],
   "source": [
    "import _init_paths\n",
    "import argparse\n",
    "import numpy as np\n",
    "from lib.config import cfg\n",
    "from lib.common.bboxInfoPredictor import bboxInfoPredictor\n",
    "from lib.common.keypointPredictor import keypointPredictor\n",
    "from lib.config import update_config\n",
    "\n",
    "from lib.common.humanKeypoints import humanKeypoints\n",
    "from lib.common.visualization import visualization\n",
    "update_config(cfg)\n",
    "media_name = [\"infant_60.mov\", \"infant2_60.mp4\", \"infant3_48.mov\", \n",
    "\"infant4_48.mov\", \"infant5_48.mov\"]\n",
    "\n",
    "# bbox = bboxInfoPredictor(\"infant_2.mp4\")\n",
    "# bbox.predict()\n",
    "# k = keypointPredictor(\"infant_2.mp4\")\n",
    "# k.predict()\n",
    "keypoints = humanKeypoints(\"infant_2.mp4\")\n",
    "v = visualization(keypoints)\n",
    "v.save_keypoint_video(show_noise=True)"
   ]
  },
  {
   "cell_type": "code",
   "execution_count": 2,
   "metadata": {},
   "outputs": [],
   "source": [
    "# for i in range(len(media_name)):\n",
    "#     boxes = bboxInfoPredictor(media_name[i], batch_size=8)\n",
    "#     boxes.predict()"
   ]
  },
  {
   "cell_type": "code",
   "execution_count": 3,
   "metadata": {},
   "outputs": [],
   "source": [
    "# for i in range(len(media_name)):\n",
    "#     keypoint_info = keypointPredictor(media_name[i])\n",
    "#     keypoint_info.predict()"
   ]
  },
  {
   "cell_type": "code",
   "execution_count": 4,
   "metadata": {},
   "outputs": [
    {
     "name": "stdout",
     "output_type": "stream",
     "text": [
      "[0.43554871 0.47995762 0.45033722 0.91829062 0.5090286  0.99524797\n",
      " 0.60246048 1.08453298 0.76162333 1.32075699 0.99203538 1.21135018\n",
      " 1.17558234 1.31952706 1.44445272 1.45509784 1.58478114]\n",
      "(17,)\n"
     ]
    },
    {
     "data": {
      "image/png": "[encoded data removed]",
      "text/plain": [
       "<Figure size 432x288 with 1 Axes>"
      ]
     },
     "metadata": {
      "needs_background": "light"
     },
     "output_type": "display_data"
    },
    {
     "data": {
      "image/png": "[encoded data removed]",
      "text/plain": [
       "<Figure size 432x288 with 1 Axes>"
      ]
     },
     "metadata": {
      "needs_background": "light"
     },
     "output_type": "display_data"
    }
   ],
   "source": [
    "from lib.config import cfg\n",
    "import os\n",
    "import pandas as pd\n",
    "import numpy as np\n",
    "from lib.common.humanKeypoints import humanKeypoints\n",
    "\n",
    "KeyPoint = humanKeypoints(\"infant2_60.mp4\")\n",
    "\"infant.mov\", \"infant2.mp4\", \"infant3.mov\", \"infant4.mov\", \"infant5.mov\"\n",
    "variability = KeyPoint.getKeypointVariability()\n",
    "mean_variability = np.mean(variability, axis=0)\n",
    "threshold = mean_variability * 100\n",
    "print(threshold)\n",
    "\n",
    "print(np.mean(KeyPoint.getKeypointVariability(), axis= 0).shape)\n",
    "v = visualization(KeyPoint)\n",
    "v.draw_variability()\n",
    "v.draw_average_movement(start_frame=72)\n",
    "# v.save_keypoint_video()\n",
    "# v.draw_pose()"
   ]
  },
  {
   "cell_type": "code",
   "execution_count": 5,
   "metadata": {},
   "outputs": [],
   "source": [
    "from typing import List\n",
    "import numpy as np\n",
    "\n",
    "infantKeypoints: List[humanKeypoints] = []\n",
    "for i in range(len(media_name)):\n",
    "    infantKeypoints.append(humanKeypoints(media_name[i]))\n",
    "\n",
    "infants_variability = []\n",
    "for i in range(len(infantKeypoints)):\n",
    "    infants_variability.append(np.mean(infantKeypoints[i].getKeypointVariability(), axis=0))\n",
    "\n",
    "infants_variability = np.array(infants_variability)\n",
    "infants_variability = np.delete(infants_variability, [1,2,3,4], axis=1)\n"
   ]
  },
  {
   "cell_type": "code",
   "execution_count": 6,
   "metadata": {},
   "outputs": [
    {
     "name": "stdout",
     "output_type": "stream",
     "text": [
      "(5, 8)\n"
     ]
    }
   ],
   "source": [
    "from lib.utils.featureExtraction import extractFeatures\n",
    "from sklearn.feature_selection import SelectPercentile\n",
    "from sklearn.feature_selection import f_classif\n",
    "import pandas as pd\n",
    "\n",
    "features = []\n",
    "df = None\n",
    "for i in range(len(media_name)):\n",
    "    infantKeypoint = humanKeypoints(media_name[i])\n",
    "    df_features = extractFeatures(infantKeypoint)\n",
    "    if df is None:\n",
    "        df = df_features\n",
    "    else:\n",
    "        df = pd.concat([df, df_features])\n",
    "\n",
    "df = df.reset_index(drop=True)\n",
    "features_type_count = df.shape[1]-1\n",
    "features = df.iloc[:, 0:features_type_count].values\n",
    "milestones = df[\"milestone\"].values\n",
    "\n",
    "temp_features = []\n",
    "for i in range(features.shape[0]):\n",
    "    temp_features.append(np.concatenate(features[i]))\n",
    "features = np.asarray(temp_features)\n",
    "\n",
    "X_new = SelectPercentile(f_classif, percentile=10).fit_transform(features, milestones)\n",
    "print(X_new.shape)\n"
   ]
  },
  {
   "cell_type": "code",
   "execution_count": 7,
   "metadata": {},
   "outputs": [
    {
     "name": "stdout",
     "output_type": "stream",
     "text": [
      "[0 0 0 0 1]\n",
      "KMeans\n",
      "台兒經典案例F+ 53w3d : 0\n",
      "F+_20190806＿53w6d : 0\n",
      "Normal_20190604_44w6d : 0\n",
      "台兒經典案例normal 44W5D : 0\n",
      "台兒經典案例normal 45w6d : 1\n"
     ]
    }
   ],
   "source": [
    "from sklearn.cluster import KMeans\n",
    "from sklearn.metrics import silhouette_score\n",
    "\n",
    "kmeans = KMeans(n_clusters=2, random_state=2)\n",
    "kmeans.fit(X_new)\n",
    "print(kmeans.labels_)\n",
    "\n",
    "names = [\"台兒經典案例F+ 53w3d\", \"F+_20190806＿53w6d\", \"Normal_20190604_44w6d\", \"台兒經典案例normal 44W5D\",\n",
    "\"台兒經典案例normal 45w6d\"]\n",
    "\n",
    "print(\"KMeans\")\n",
    "for i in range(len(names)):\n",
    "    print(names[i], \":\", kmeans.labels_[i])"
   ]
  },
  {
   "cell_type": "code",
   "execution_count": 8,
   "metadata": {},
   "outputs": [
    {
     "name": "stdout",
     "output_type": "stream",
     "text": [
      "[1 1 1 1 0]\n"
     ]
    }
   ],
   "source": [
    "from sklearn.mixture import GaussianMixture\n",
    "gm = GaussianMixture(n_components=2, random_state=0).fit_predict(X_new)\n",
    "print(gm)"
   ]
  },
  {
   "cell_type": "markdown",
   "metadata": {},
   "source": [
    "### K-Means silhouette score"
   ]
  },
  {
   "cell_type": "code",
   "execution_count": 9,
   "metadata": {},
   "outputs": [
    {
     "data": {
      "text/plain": [
       "[<matplotlib.lines.Line2D at 0x7f00e90683d0>]"
      ]
     },
     "execution_count": 9,
     "metadata": {},
     "output_type": "execute_result"
    },
    {
     "data": {
      "image/png": "[encoded data removed]",
      "text/plain": [
       "<Figure size 432x288 with 1 Axes>"
      ]
     },
     "metadata": {
      "needs_background": "light"
     },
     "output_type": "display_data"
    }
   ],
   "source": [
    "from sklearn.cluster import KMeans\n",
    "from sklearn.metrics import silhouette_score\n",
    "from sklearn.feature_selection import SelectPercentile\n",
    "from sklearn.feature_selection import f_classif\n",
    "import matplotlib.pyplot as plt\n",
    "\n",
    "kmeans = KMeans(n_clusters=2, random_state=2)\n",
    "\n",
    "scores = []\n",
    "for i in range(1,100):\n",
    "    X_new = SelectPercentile(f_classif, percentile=i).fit_transform(features, milestones)\n",
    "    kmeans.fit(X_new)\n",
    "    scores.append(silhouette_score(X_new, kmeans.labels_))\n",
    "\n",
    "x = np.arange(1, 100)\n",
    "plt.plot(x, scores)"
   ]
  },
  {
   "cell_type": "code",
   "execution_count": null,
   "metadata": {},
   "outputs": [],
   "source": []
  }
 ],
 "metadata": {
  "interpreter": {
   "hash": "126fd4d4000627bf0074806a910197131ca25a769057180ede64badf3ecf74bc"
  },
  "kernelspec": {
   "display_name": "Python 3.7.11 64-bit ('Wei_env': conda)",
   "language": "python",
   "name": "python3"
  },
  "language_info": {
   "codemirror_mode": {
    "name": "ipython",
    "version": 3
   },
   "file_extension": ".py",
   "mimetype": "text/x-python",
   "name": "python",
   "nbconvert_exporter": "python",
   "pygments_lexer": "ipython3",
   "version": "3.7.11"
  },
  "orig_nbformat": 4
 },
 "nbformat": 4,
 "nbformat_minor": 2
}
